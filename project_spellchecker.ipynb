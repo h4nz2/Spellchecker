{
 "cells": [
  {
   "cell_type": "code",
   "execution_count": null,
   "metadata": {},
   "outputs": [],
   "source": [
    "import pickle\n",
    "import numpy as np\n",
    "import distance as dist\n",
    "from collections import Counter\n",
    "import re"
   ]
  },
  {
   "cell_type": "code",
   "execution_count": null,
   "metadata": {},
   "outputs": [],
   "source": [
    "# 100 clusters of 100 words to reduce the computational complexity\n",
    "kmeans_clusters = pickle.load(open(\"kmeans_word_clusters.data\", 'rb'))\n",
    "# we use only the 10,000 most common words to reduce computational complexity\n",
    "words_dictionary = pickle.load(open(\"words.data\", 'rb'))\n",
    "# number of occurences of our words\n",
    "word_counter = Counter(re.findall(r'\\w+', open('big.txt').read().lower()))"
   ]
  },
  {
   "cell_type": "code",
   "execution_count": 183,
   "metadata": {},
   "outputs": [],
   "source": [
    "def get_corrections(word):\n",
    "    closest_clusters = find_closest_clusters(word)\n",
    "#     print('closest_clusters:')\n",
    "#     print(closest_clusters)\n",
    "    closest_words = find_closest_words(word, closest_clusters)\n",
    "#     print('closest_words:')\n",
    "#     print(closest_words)\n",
    "    suggestions = get_suggestions(closest_words)\n",
    "    \n",
    "    for word in suggestions:\n",
    "        print(word)\n",
    "\n",
    "# find clusters with the lowest distance to the word\n",
    "def find_closest_clusters(word):\n",
    "    # max distance to the word representing the cluster\n",
    "    MAX_DISTANCE = 4\n",
    "    cluster_distances = []\n",
    "    for i in range(len(kmeans_clusters)):\n",
    "        # check distance to one of the words in the cluster\n",
    "        cluster_distances.append([i, dist.levenshtein(word, kmeans_clusters[i][5])])\n",
    "\n",
    "    # get the clusters with the lowest distance\n",
    "    shortest_distance = np.amin(np.array(cluster_distances)[:,1])\n",
    "    return list(filter(lambda x: x[1] < (shortest_distance + MAX_DISTANCE), cluster_distances))\n",
    "\n",
    "# find words in the clusters with the shortest distance to the word\n",
    "def find_closest_words(word, clusters):\n",
    "    word_distances = []\n",
    "    for cluster_distance in clusters:\n",
    "        for i in range(len(kmeans_clusters[cluster_distance[0]])):\n",
    "            word_distances.append(\n",
    "                [kmeans_clusters[cluster_distance[0]][i], \n",
    "                 dist.levenshtein(word, kmeans_clusters[cluster_distance[0]][i])])\n",
    "\n",
    "    shortest_word_distance = np.amin(np.array(word_distances)[:,1].astype(np.int))\n",
    "    closest_words = list(filter(lambda x: x[1] < shortest_word_distance + 2, word_distances ))\n",
    "    \n",
    "    return closest_words\n",
    "    \n",
    "# get best suggestions using combination of distance and word frequency\n",
    "def get_suggestions(candidate_words):\n",
    "    suggestions = []\n",
    "    \n",
    "    # if there is a word with distance 0, add it first, maybe it is right\n",
    "    top_word = list(filter(lambda x: x[1] == 0, candidate_words))\n",
    "    if len(top_word) > 0:\n",
    "        word = list(top_word)[0]\n",
    "        suggestions.append(word[0])\n",
    "        \n",
    "        \n",
    "    print()\n",
    "    # add all words with distance 1\n",
    "    ordered_words_1 = list(filter(lambda x: x[1] == 1, candidate_words))\n",
    "    if len(ordered_words_1) > 0:\n",
    "        suggestions.extend(order_by_frequency(np.array(ordered_words_1)[:,0]))\n",
    "    \n",
    "    # add 3 words of distance 2 with the highest frequency of occurence in the text\n",
    "    words_distance_2 = list(filter(lambda x: x[1] == 2, candidate_words))\n",
    "    if len(words_distance_2) > 0:\n",
    "        suggestions.extend(order_by_frequency(np.array(words_distance_2)[:,0])[0:3])\n",
    "    \n",
    "    return suggestions\n",
    "\n",
    "# return words ordered by their occurrence frequency\n",
    "def order_by_frequency(words_list):\n",
    "    words_with_frequencies = list(map(lambda word: [word, word_counter[word]], words_list))\n",
    "    words_with_frequencies.sort(key = lambda x: x[1], reverse = True)\n",
    "    if len(words_with_frequencies) > 0:\n",
    "        return np.array(words_with_frequencies)[:,0]\n",
    "    else:\n",
    "        return []"
   ]
  },
  {
   "cell_type": "code",
   "execution_count": 195,
   "metadata": {},
   "outputs": [
    {
     "name": "stdout",
     "output_type": "stream",
     "text": [
      "\n",
      "care\n",
      "are\n",
      "came\n",
      "case\n",
      "rare\n",
      "bare\n",
      "cure\n",
      "cart\n",
      "dare\n",
      "hare\n",
      "card\n",
      "cares\n",
      "cared\n",
      "fare\n"
     ]
    }
   ],
   "source": [
    "get_corrections('care')"
   ]
  },
  {
   "cell_type": "code",
   "execution_count": 191,
   "metadata": {},
   "outputs": [
    {
     "data": {
      "text/plain": [
       "True"
      ]
     },
     "execution_count": 191,
     "metadata": {},
     "output_type": "execute_result"
    }
   ],
   "source": [
    "'war' in words_dictionary"
   ]
  },
  {
   "cell_type": "code",
   "execution_count": null,
   "metadata": {},
   "outputs": [],
   "source": [
    "word = input()\n",
    "while word != 'exit':\n",
    "    print('suggestions:')\n",
    "    get_corrections(word)\n",
    "    print('---------------------------------')\n",
    "    word = input()"
   ]
  },
  {
   "cell_type": "code",
   "execution_count": null,
   "metadata": {},
   "outputs": [],
   "source": [
    "order_by_frequency(['the', 'car', 'happiness'])"
   ]
  }
 ],
 "metadata": {
  "kernelspec": {
   "display_name": "Python 3",
   "language": "python",
   "name": "python3"
  },
  "language_info": {
   "codemirror_mode": {
    "name": "ipython",
    "version": 3
   },
   "file_extension": ".py",
   "mimetype": "text/x-python",
   "name": "python",
   "nbconvert_exporter": "python",
   "pygments_lexer": "ipython3",
   "version": "3.7.4"
  }
 },
 "nbformat": 4,
 "nbformat_minor": 4
}
